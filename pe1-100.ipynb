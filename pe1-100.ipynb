{
 "cells": [
  {
   "cell_type": "markdown",
   "metadata": {},
   "source": [
    "# Links #\n",
    "* [x] [3](#3)\n",
    "* [x] [5](#5)"
   ]
  },
  {
   "cell_type": "code",
   "execution_count": 1,
   "metadata": {},
   "outputs": [],
   "source": [
    "import numpy as np\n",
    "import math as ma\n",
    "import sympy"
   ]
  },
  {
   "cell_type": "markdown",
   "metadata": {},
   "source": [
    "<a id='3'></a>\n",
    "# Done - 3 #\n",
    "The prime factors of 13195 are 5, 7, 13 and 29.\n",
    "\n",
    "What is the largest prime factor of the number 600851475143?"
   ]
  },
  {
   "cell_type": "code",
   "execution_count": 36,
   "metadata": {},
   "outputs": [
    {
     "data": {
      "text/plain": [
       "True"
      ]
     },
     "execution_count": 36,
     "metadata": {},
     "output_type": "execute_result"
    }
   ],
   "source": [
    "sympy.isprime(5)"
   ]
  },
  {
   "cell_type": "code",
   "execution_count": 103,
   "metadata": {},
   "outputs": [],
   "source": [
    "def prime_fac_loop(n):\n",
    "    n_orig = n\n",
    "    fac = [1]\n",
    "    for i in range(2, n_orig):\n",
    "        div = n / i\n",
    "        if (div == int(div)):\n",
    "            div = int(div)\n",
    "            if (sympy.isprime(i)):\n",
    "                fac.append(i)\n",
    "            if (sympy.isprime(div)):\n",
    "                fac.append(div)\n",
    "#             print(fac)\n",
    "            n = div\n",
    "            prod = np.prod(np.array(fac))\n",
    "#             print(prod)\n",
    "            if (prod == n_orig or n == 1):\n",
    "                return max(fac)"
   ]
  },
  {
   "cell_type": "code",
   "execution_count": 105,
   "metadata": {},
   "outputs": [
    {
     "data": {
      "text/plain": [
       "29"
      ]
     },
     "execution_count": 105,
     "metadata": {},
     "output_type": "execute_result"
    }
   ],
   "source": [
    "prime_fac_loop(13195)"
   ]
  },
  {
   "cell_type": "code",
   "execution_count": 106,
   "metadata": {},
   "outputs": [
    {
     "data": {
      "text/plain": [
       "6857"
      ]
     },
     "execution_count": 106,
     "metadata": {},
     "output_type": "execute_result"
    }
   ],
   "source": [
    "prime_fac_loop(600851475143)"
   ]
  },
  {
   "cell_type": "markdown",
   "metadata": {},
   "source": [
    "<a id='5'></a>\n",
    "# 5 - Done #\n",
    "2520 is the smallest number that can be divided by each of the numbers from 1 to 10 without any remainder.\n",
    "\n",
    "What is the smallest positive number that is evenly divisible by all of the numbers from 1 to 20?"
   ]
  },
  {
   "cell_type": "code",
   "execution_count": 44,
   "metadata": {},
   "outputs": [],
   "source": [
    "def lcm_first_n(n):\n",
    "    '''Gets the least common multiple of the first n integers, [1,n] inclusive.\n",
    "    \n",
    "    Multiples the highest power of each prime form 1 to n to get lcm. \n",
    "    Uses sympy to find each prime number from 1 to n. \n",
    "    Takes the log of each number from 1 to n with base of that prime p.\n",
    "    Multiples all p^floor of max value of log_p([1,n]) to get result.\n",
    "    '''\n",
    "    nums = np.arange(1,n+1)\n",
    "    result = 1\n",
    "    for i in range(1,n+1):\n",
    "        if sympy.isprime(i):\n",
    "            result = result * (i ** np.floor(np.max(np.log(nums) / np.log(i))))\n",
    "    return result"
   ]
  },
  {
   "cell_type": "code",
   "execution_count": 45,
   "metadata": {},
   "outputs": [
    {
     "data": {
      "text/plain": [
       "232792560.0"
      ]
     },
     "execution_count": 45,
     "metadata": {},
     "output_type": "execute_result"
    }
   ],
   "source": [
    "lcm_first_n(20)"
   ]
  }
 ],
 "metadata": {
  "kernelspec": {
   "display_name": "Python 3",
   "language": "python",
   "name": "python3"
  },
  "language_info": {
   "codemirror_mode": {
    "name": "ipython",
    "version": 3
   },
   "file_extension": ".py",
   "mimetype": "text/x-python",
   "name": "python",
   "nbconvert_exporter": "python",
   "pygments_lexer": "ipython3",
   "version": "3.8.3"
  }
 },
 "nbformat": 4,
 "nbformat_minor": 4
}
