{
 "cells": [
  {
   "cell_type": "markdown",
   "metadata": {},
   "source": [
    "<a id='top'></a>\n",
    "# Links #\n",
    "* [Top](#top)\n",
    "* [x] [3](#3)\n",
    "* [x] [5](#5)\n",
    "* [x] [6](#6)\n",
    "* [x] [14](#14)\n",
    "* [ ] [15](#15)"
   ]
  },
  {
   "cell_type": "code",
   "execution_count": 1,
   "metadata": {},
   "outputs": [],
   "source": [
    "import numpy as np\n",
    "import math as ma\n",
    "import sympy"
   ]
  },
  {
   "cell_type": "markdown",
   "metadata": {},
   "source": [
    "<a id='3'></a>\n",
    "# 3 - Done #\n",
    "The prime factors of 13195 are 5, 7, 13 and 29.\n",
    "\n",
    "What is the largest prime factor of the number 600851475143?"
   ]
  },
  {
   "cell_type": "code",
   "execution_count": 36,
   "metadata": {},
   "outputs": [
    {
     "data": {
      "text/plain": [
       "True"
      ]
     },
     "execution_count": 36,
     "metadata": {},
     "output_type": "execute_result"
    }
   ],
   "source": [
    "sympy.isprime(5)"
   ]
  },
  {
   "cell_type": "code",
   "execution_count": 103,
   "metadata": {},
   "outputs": [],
   "source": [
    "def prime_fac_loop(n):\n",
    "    n_orig = n\n",
    "    fac = [1]\n",
    "    for i in range(2, n_orig):\n",
    "        div = n / i\n",
    "        if (div == int(div)):\n",
    "            div = int(div)\n",
    "            if (sympy.isprime(i)):\n",
    "                fac.append(i)\n",
    "            if (sympy.isprime(div)):\n",
    "                fac.append(div)\n",
    "#             print(fac)\n",
    "            n = div\n",
    "            prod = np.prod(np.array(fac))\n",
    "#             print(prod)\n",
    "            if (prod == n_orig or n == 1):\n",
    "                return max(fac)"
   ]
  },
  {
   "cell_type": "code",
   "execution_count": 105,
   "metadata": {},
   "outputs": [
    {
     "data": {
      "text/plain": [
       "29"
      ]
     },
     "execution_count": 105,
     "metadata": {},
     "output_type": "execute_result"
    }
   ],
   "source": [
    "prime_fac_loop(13195)"
   ]
  },
  {
   "cell_type": "code",
   "execution_count": 106,
   "metadata": {},
   "outputs": [
    {
     "data": {
      "text/plain": [
       "6857"
      ]
     },
     "execution_count": 106,
     "metadata": {},
     "output_type": "execute_result"
    }
   ],
   "source": [
    "prime_fac_loop(600851475143)"
   ]
  },
  {
   "cell_type": "markdown",
   "metadata": {},
   "source": [
    "<a id='5'></a>\n",
    "# 5 - Done #\n",
    "2520 is the smallest number that can be divided by each of the numbers from 1 to 10 without any remainder.\n",
    "\n",
    "What is the smallest positive number that is evenly divisible by all of the numbers from 1 to 20?"
   ]
  },
  {
   "cell_type": "code",
   "execution_count": 44,
   "metadata": {},
   "outputs": [],
   "source": [
    "def lcm_first_n(n):\n",
    "    '''Gets the least common multiple of the first n integers, [1,n] inclusive.\n",
    "    \n",
    "    Multiples the highest power of each prime form 1 to n to get lcm. \n",
    "    Uses sympy to find each prime number from 1 to n. \n",
    "    Takes the log of each number from 1 to n with base of that prime p.\n",
    "    Multiples all p^floor of max value of log_p([1,n]) to get result.\n",
    "    '''\n",
    "    nums = np.arange(1,n+1)\n",
    "    result = 1\n",
    "    for i in range(1,n+1):\n",
    "        if sympy.isprime(i):\n",
    "            result = result * (i ** np.floor(np.max(np.log(nums) / np.log(i))))\n",
    "    return result"
   ]
  },
  {
   "cell_type": "code",
   "execution_count": 45,
   "metadata": {},
   "outputs": [
    {
     "data": {
      "text/plain": [
       "232792560.0"
      ]
     },
     "execution_count": 45,
     "metadata": {},
     "output_type": "execute_result"
    }
   ],
   "source": [
    "lcm_first_n(20)"
   ]
  },
  {
   "cell_type": "markdown",
   "metadata": {},
   "source": [
    "<a id='6'></a>\n",
    "\n",
    "# 6 - Done #\n",
    "\n",
    "The sum of the squares of the first ten natural numbers is,\n",
    "\n",
    "The square of the sum of the first ten natural numbers is,\n",
    "\n",
    "Hence the difference between the sum of the squares of the first ten natural numbers and the square of the sum is .\n",
    "\n",
    "Find the difference between the sum of the squares of the first one hundred natural numbers and the square of the sum."
   ]
  },
  {
   "cell_type": "code",
   "execution_count": 56,
   "metadata": {},
   "outputs": [
    {
     "data": {
      "text/plain": [
       "2640"
      ]
     },
     "execution_count": 56,
     "metadata": {},
     "output_type": "execute_result"
    }
   ],
   "source": [
    "nums = np.arange(1,11)\n",
    "nums_sq = nums**2\n",
    "(np.sum(nums))**2 - np.sum(nums_sq)"
   ]
  },
  {
   "cell_type": "code",
   "execution_count": 14,
   "metadata": {},
   "outputs": [
    {
     "data": {
      "text/plain": [
       "25164150"
      ]
     },
     "execution_count": 14,
     "metadata": {},
     "output_type": "execute_result"
    }
   ],
   "source": [
    "nums = np.arange(1,101)\n",
    "nums_sq = nums**2\n",
    "(np.sum(nums))**2 - np.sum(nums_sq)"
   ]
  },
  {
   "cell_type": "markdown",
   "metadata": {},
   "source": [
    "<a id='14'></a>\n",
    "# 14 - Done #\n",
    "The following iterative sequence is defined for the set of positive integers:\n",
    "\n",
    "n → n/2 (n is even)\n",
    "n → 3n + 1 (n is odd)\n",
    "\n",
    "Using the rule above and starting with 13, we generate the following sequence:\n",
    "\n",
    "13 → 40 → 20 → 10 → 5 → 16 → 8 → 4 → 2 → 1\n",
    "It can be seen that this sequence (starting at 13 and finishing at 1) contains 10 terms. Although it has not been proved yet (Collatz Problem), it is thought that all starting numbers finish at 1.\n",
    "\n",
    "Which starting number, under one million, produces the longest chain?\n",
    "\n",
    "NOTE: Once the chain starts the terms are allowed to go above one million."
   ]
  },
  {
   "cell_type": "code",
   "execution_count": 98,
   "metadata": {},
   "outputs": [],
   "source": [
    "def next_collatz(n):\n",
    "    '''Returns next integer according to rules of the collatz sequence.'''\n",
    "    if n % 2 == 0:\n",
    "        return n / 2\n",
    "    else:\n",
    "        return 3*n + 1\n",
    "\n",
    "def collatz_length(n):\n",
    "    '''Returns the length of the collatz sequence starting from n and ending at 1.'''\n",
    "    i = 0\n",
    "    while n != 1:\n",
    "        n = next_collatz(n)\n",
    "        i += 1\n",
    "    return i"
   ]
  },
  {
   "cell_type": "code",
   "execution_count": 96,
   "metadata": {},
   "outputs": [],
   "source": [
    "def longest_collatz(n):\n",
    "    '''Returns a tuple including the integer from [2,n) \n",
    "    which has the longest collatz sequence and the length of that sequence.\n",
    "    If there is more than 1 integer with the same length collatz sequence, \n",
    "    the largest one is returned.  \n",
    "    '''\n",
    "    \n",
    "    nums = np.arange(2, int(n), dtype=np.int64)\n",
    "    while np.sum(nums==1) < nums.size - 2:\n",
    "        mods = nums % 2\n",
    "        non_one = nums != 1\n",
    "        nums[mods == 0] = nums[mods == 0] / 2\n",
    "        nums[non_one * (mods == 1)] = 3 * nums[non_one * (mods == 1)] + 1\n",
    "    \n",
    "    candidates = np.argwhere(nums != 1) + 2\n",
    "#     print(candidates)\n",
    "    lengths = []\n",
    "    for candidate in candidates:\n",
    "        lengths.append(collatz_length(candidate))\n",
    "#     print(lengths)\n",
    "    if all(element == lengths[0] for element in lengths):\n",
    "        return (candidates[-1, 0], lengths[-1])\n",
    "        \n",
    "    return (candidates[np.argmax(lengths), 0], lengths[np.argmax(lengths)])"
   ]
  },
  {
   "cell_type": "code",
   "execution_count": 97,
   "metadata": {},
   "outputs": [
    {
     "data": {
      "text/plain": [
       "(837799, 524)"
      ]
     },
     "execution_count": 97,
     "metadata": {},
     "output_type": "execute_result"
    }
   ],
   "source": [
    "longest_collatz(10**6)"
   ]
  },
  {
   "cell_type": "markdown",
   "metadata": {},
   "source": [
    "<a id='15'></a>\n",
    "# 15 #\n",
    "Starting in the top left corner of a 2×2 grid, and only being able to move to the right and down, there are exactly 6 routes to the bottom right corner.\n",
    "\n",
    "How many such routes are there through a 20×20 grid?"
   ]
  },
  {
   "cell_type": "code",
   "execution_count": 5,
   "metadata": {},
   "outputs": [],
   "source": [
    "import scipy.special\n",
    "import random"
   ]
  },
  {
   "cell_type": "code",
   "execution_count": 66,
   "metadata": {},
   "outputs": [],
   "source": [
    "def lattice_paths(s):\n",
    "    '''Returns the number of lattice paths from the top left to \n",
    "    bottom right of a square of side length s, using only right and downward moves.\n",
    "    \n",
    "    There are a total 2s moves required in all paths.\n",
    "    For the first s moves, there are a total of 2**s possible choices.\n",
    "    There is 1=comb(s,0) choice with all right moves. This imples only 1 way to fill the remaining s moves, all down.\n",
    "    There are s=comb(s,1) choices with 1 right moves and s-1 down. There are now s ways to fill the remaining moves with s-1 rights and 1 down.\n",
    "    There are comb(s, 2) with 2 rights moves. There are comb(s,2) ways to fill the remainig s-2 rights and 2 downs\n",
    "    And so on.\n",
    "    \n",
    "    To get the total number of paths, square the results \n",
    "    of each line since there are comb(s,i) ways to independently ]\n",
    "    choose the first s moves and another comb(s,i) ways to choose the next: \n",
    "    1**2 + s**2 + comb(s,2)**2 + ... comb(s,s)**2\n",
    "    '''\n",
    "    \n",
    "    sum = 0\n",
    "    for i in range(s+1):\n",
    "        sum += (scipy.special.comb(s,i))**2\n",
    "    return sum"
   ]
  },
  {
   "cell_type": "code",
   "execution_count": 65,
   "metadata": {},
   "outputs": [
    {
     "data": {
      "text/plain": [
       "137846528820.0"
      ]
     },
     "execution_count": 65,
     "metadata": {},
     "output_type": "execute_result"
    }
   ],
   "source": [
    "lattice_paths(20)"
   ]
  }
 ],
 "metadata": {
  "kernelspec": {
   "display_name": "Python 3",
   "language": "python",
   "name": "python3"
  },
  "language_info": {
   "codemirror_mode": {
    "name": "ipython",
    "version": 3
   },
   "file_extension": ".py",
   "mimetype": "text/x-python",
   "name": "python",
   "nbconvert_exporter": "python",
   "pygments_lexer": "ipython3",
   "version": "3.8.3"
  }
 },
 "nbformat": 4,
 "nbformat_minor": 4
}
