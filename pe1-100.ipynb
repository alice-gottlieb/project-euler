{
 "cells": [
  {
   "cell_type": "markdown",
   "metadata": {},
   "source": [
    "<a id='top'></a>\n",
    "# Links #\n",
    "* [Top](#top)\n",
    "* [x] [3](#3)\n",
    "* [x] [4](#4)\n",
    "* [x] [5](#5)\n",
    "* [x] [6](#6)\n",
    "* [x] [8](#8)\n",
    "* [x] [14](#14)\n",
    "* [x] [15](#15)"
   ]
  },
  {
   "cell_type": "code",
   "execution_count": 1,
   "metadata": {},
   "outputs": [],
   "source": [
    "import numpy as np\n",
    "import math as ma"
   ]
  },
  {
   "cell_type": "markdown",
   "metadata": {},
   "source": [
    "<a id='3'></a>\n",
    "# 3 - Done #\n",
    "The prime factors of 13195 are 5, 7, 13 and 29.\n",
    "\n",
    "What is the largest prime factor of the number 600851475143?"
   ]
  },
  {
   "cell_type": "code",
   "execution_count": 36,
   "metadata": {},
   "outputs": [
    {
     "data": {
      "text/plain": [
       "True"
      ]
     },
     "execution_count": 36,
     "metadata": {},
     "output_type": "execute_result"
    }
   ],
   "source": [
    "sympy.isprime(5)"
   ]
  },
  {
   "cell_type": "code",
   "execution_count": 103,
   "metadata": {},
   "outputs": [],
   "source": [
    "def prime_fac_loop(n):\n",
    "    n_orig = n\n",
    "    fac = [1]\n",
    "    for i in range(2, n_orig):\n",
    "        div = n / i\n",
    "        if (div == int(div)):\n",
    "            div = int(div)\n",
    "            if (sympy.isprime(i)):\n",
    "                fac.append(i)\n",
    "            if (sympy.isprime(div)):\n",
    "                fac.append(div)\n",
    "#             print(fac)\n",
    "            n = div\n",
    "            prod = np.prod(np.array(fac))\n",
    "#             print(prod)\n",
    "            if (prod == n_orig or n == 1):\n",
    "                return max(fac)"
   ]
  },
  {
   "cell_type": "code",
   "execution_count": 105,
   "metadata": {},
   "outputs": [
    {
     "data": {
      "text/plain": [
       "29"
      ]
     },
     "execution_count": 105,
     "metadata": {},
     "output_type": "execute_result"
    }
   ],
   "source": [
    "prime_fac_loop(13195)"
   ]
  },
  {
   "cell_type": "code",
   "execution_count": 106,
   "metadata": {},
   "outputs": [
    {
     "data": {
      "text/plain": [
       "6857"
      ]
     },
     "execution_count": 106,
     "metadata": {},
     "output_type": "execute_result"
    }
   ],
   "source": [
    "prime_fac_loop(600851475143)"
   ]
  },
  {
   "cell_type": "markdown",
   "metadata": {},
   "source": [
    "<a id='4'></a>\n",
    "\n",
    "# 4 - 11/10/20 #\n",
    "\n",
    "A palindromic number reads the same both ways. The largest palindrome made from the product of two 2-digit numbers is 9009 = 91 × 99.\n",
    "\n",
    "Find the largest palindrome made from the product of two 3-digit numbers."
   ]
  },
  {
   "cell_type": "code",
   "execution_count": 2,
   "metadata": {},
   "outputs": [],
   "source": [
    "def is_palindrome(n):\n",
    "    n = str(int(n))\n",
    "    for i in range(ma.floor(len(n) / 2)):\n",
    "        if n[i] != n[len(n) - i - 1]:\n",
    "            return False\n",
    "    return True"
   ]
  },
  {
   "cell_type": "code",
   "execution_count": 9,
   "metadata": {},
   "outputs": [
    {
     "data": {
      "text/plain": [
       "True"
      ]
     },
     "execution_count": 9,
     "metadata": {},
     "output_type": "execute_result"
    }
   ],
   "source": [
    "is_palindrome(101)"
   ]
  },
  {
   "cell_type": "code",
   "execution_count": 12,
   "metadata": {},
   "outputs": [
    {
     "name": "stdout",
     "output_type": "stream",
     "text": [
      "[819918, 824428, 819918, 906609, 824428, 886688, 861168, 888888, 861168, 888888, 886688, 906609]\n",
      "906609\n"
     ]
    }
   ],
   "source": [
    "pals = []\n",
    "for i in range(900, 1000):\n",
    "    for j in range(900, 1000):\n",
    "        if is_palindrome(i*j):\n",
    "            pals.append(i*j)\n",
    "\n",
    "print(pals)\n",
    "print(max(pals))"
   ]
  },
  {
   "cell_type": "markdown",
   "metadata": {},
   "source": [
    "<a id='5'></a>\n",
    "# 5 - Done #\n",
    "2520 is the smallest number that can be divided by each of the numbers from 1 to 10 without any remainder.\n",
    "\n",
    "What is the smallest positive number that is evenly divisible by all of the numbers from 1 to 20?"
   ]
  },
  {
   "cell_type": "code",
   "execution_count": 44,
   "metadata": {},
   "outputs": [],
   "source": [
    "def lcm_first_n(n):\n",
    "    '''Gets the least common multiple of the first n integers, [1,n] inclusive.\n",
    "    \n",
    "    Multiples the highest power of each prime form 1 to n to get lcm. \n",
    "    Uses sympy to find each prime number from 1 to n. \n",
    "    Takes the log of each number from 1 to n with base of that prime p.\n",
    "    Multiples all p^floor of max value of log_p([1,n]) to get result.\n",
    "    '''\n",
    "    nums = np.arange(1,n+1)\n",
    "    result = 1\n",
    "    for i in range(1,n+1):\n",
    "        if sympy.isprime(i):\n",
    "            result = result * (i ** np.floor(np.max(np.log(nums) / np.log(i))))\n",
    "    return result"
   ]
  },
  {
   "cell_type": "code",
   "execution_count": 45,
   "metadata": {},
   "outputs": [
    {
     "data": {
      "text/plain": [
       "232792560.0"
      ]
     },
     "execution_count": 45,
     "metadata": {},
     "output_type": "execute_result"
    }
   ],
   "source": [
    "lcm_first_n(20)"
   ]
  },
  {
   "cell_type": "markdown",
   "metadata": {},
   "source": [
    "<a id='6'></a>\n",
    "\n",
    "# 6 - Done #\n",
    "\n",
    "The sum of the squares of the first ten natural numbers is,\n",
    "\n",
    "The square of the sum of the first ten natural numbers is,\n",
    "\n",
    "Hence the difference between the sum of the squares of the first ten natural numbers and the square of the sum is .\n",
    "\n",
    "Find the difference between the sum of the squares of the first one hundred natural numbers and the square of the sum."
   ]
  },
  {
   "cell_type": "code",
   "execution_count": 56,
   "metadata": {},
   "outputs": [
    {
     "data": {
      "text/plain": [
       "2640"
      ]
     },
     "execution_count": 56,
     "metadata": {},
     "output_type": "execute_result"
    }
   ],
   "source": [
    "nums = np.arange(1,11)\n",
    "nums_sq = nums**2\n",
    "(np.sum(nums))**2 - np.sum(nums_sq)"
   ]
  },
  {
   "cell_type": "code",
   "execution_count": 14,
   "metadata": {},
   "outputs": [
    {
     "data": {
      "text/plain": [
       "25164150"
      ]
     },
     "execution_count": 14,
     "metadata": {},
     "output_type": "execute_result"
    }
   ],
   "source": [
    "nums = np.arange(1,101)\n",
    "nums_sq = nums**2\n",
    "(np.sum(nums))**2 - np.sum(nums_sq)"
   ]
  },
  {
   "cell_type": "markdown",
   "metadata": {},
   "source": [
    "<a id='8'></a>\n",
    "\n",
    "# 8 - 11/18/20#\n",
    "Find the thirteen adjacent digits in the 1000-digit number that have the greatest product. What is the value of this product?"
   ]
  },
  {
   "cell_type": "code",
   "execution_count": 34,
   "metadata": {},
   "outputs": [
    {
     "name": "stdout",
     "output_type": "stream",
     "text": [
      "[7 3 1 6 7 1 7 6 5 3 1 3 3] 0 5000940\n",
      "[4 9 1 9 2 2 5 1 1 9 6 7 4] 16 9797760\n",
      "[9 2 2 5 1 1 9 6 7 4 4 2 6] 19 13063680\n",
      "[2 5 1 1 9 6 7 4 4 2 6 5 7] 21 25401600\n",
      "[5 1 1 9 6 7 4 4 2 6 5 7 4] 22 50803200\n",
      "[1 1 9 6 7 4 4 2 6 5 7 4 7] 23 71124480\n",
      "[1 9 6 7 4 4 2 6 5 7 4 7 4] 24 284497920\n",
      "[9 6 7 4 4 2 6 5 7 4 7 4 2] 25 568995840\n",
      "[5 3 4 9 1 9 4 9 3 4 9 6 9] 40 1020366720\n",
      "[3 4 9 1 9 4 9 3 4 9 6 9 8] 41 1632586752\n",
      "[9 1 9 4 9 3 4 9 6 9 8 3 5] 43 2040733440\n",
      "[8 6 9 4 7 8 8 5 1 8 4 3 8] 88 2972712960\n",
      "[4 3 5 5 7 6 6 8 9 6 6 4 8] 195 6270566400\n",
      "[3 5 5 7 6 6 8 9 6 6 4 8 9] 196 14108774400\n",
      "[5 5 7 6 6 8 9 6 6 4 8 9 5] 197 23514624000\n",
      "23514624000\n"
     ]
    }
   ],
   "source": [
    "nums_str = \\\n",
    "'73167176531330624919225119674426574742355349194934\\\n",
    "96983520312774506326239578318016984801869478851843\\\n",
    "85861560789112949495459501737958331952853208805511\\\n",
    "12540698747158523863050715693290963295227443043557\\\n",
    "66896648950445244523161731856403098711121722383113\\\n",
    "62229893423380308135336276614282806444486645238749\\\n",
    "30358907296290491560440772390713810515859307960866\\\n",
    "70172427121883998797908792274921901699720888093776\\\n",
    "65727333001053367881220235421809751254540594752243\\\n",
    "52584907711670556013604839586446706324415722155397\\\n",
    "53697817977846174064955149290862569321978468622482\\\n",
    "83972241375657056057490261407972968652414535100474\\\n",
    "82166370484403199890008895243450658541227588666881\\\n",
    "16427171479924442928230863465674813919123162824586\\\n",
    "17866458359124566529476545682848912883142607690042\\\n",
    "24219022671055626321111109370544217506941658960408\\\n",
    "07198403850962455444362981230987879927244284909188\\\n",
    "84580156166097919133875499200524063689912560717606\\\n",
    "05886116467109405077541002256983155200055935729725\\\n",
    "71636269561882670428252483600823257530420752963450'\n",
    "\n",
    "nums = np.array([int(num) for num in nums_str], dtype=np.int64)\n",
    "\n",
    "max_prod = 1\n",
    "\n",
    "for i in range(len(nums)):\n",
    "    box = nums[i:(i + 13)]\n",
    "    prod = np.prod(box)\n",
    "    \n",
    "    if prod > max_prod:\n",
    "        max_prod = prod\n",
    "        print(box, i, prod)\n",
    "        \n",
    "print(max_prod)"
   ]
  },
  {
   "cell_type": "markdown",
   "metadata": {},
   "source": [
    "<a id='14'></a>\n",
    "# 14 - Done #\n",
    "The following iterative sequence is defined for the set of positive integers:\n",
    "\n",
    "n → n/2 (n is even)\n",
    "n → 3n + 1 (n is odd)\n",
    "\n",
    "Using the rule above and starting with 13, we generate the following sequence:\n",
    "\n",
    "13 → 40 → 20 → 10 → 5 → 16 → 8 → 4 → 2 → 1\n",
    "It can be seen that this sequence (starting at 13 and finishing at 1) contains 10 terms. Although it has not been proved yet (Collatz Problem), it is thought that all starting numbers finish at 1.\n",
    "\n",
    "Which starting number, under one million, produces the longest chain?\n",
    "\n",
    "NOTE: Once the chain starts the terms are allowed to go above one million."
   ]
  },
  {
   "cell_type": "code",
   "execution_count": 98,
   "metadata": {},
   "outputs": [],
   "source": [
    "def next_collatz(n):\n",
    "    '''Returns next integer according to rules of the collatz sequence.'''\n",
    "    if n % 2 == 0:\n",
    "        return n / 2\n",
    "    else:\n",
    "        return 3*n + 1\n",
    "\n",
    "def collatz_length(n):\n",
    "    '''Returns the length of the collatz sequence starting from n and ending at 1.'''\n",
    "    i = 0\n",
    "    while n != 1:\n",
    "        n = next_collatz(n)\n",
    "        i += 1\n",
    "    return i"
   ]
  },
  {
   "cell_type": "code",
   "execution_count": 96,
   "metadata": {},
   "outputs": [],
   "source": [
    "def longest_collatz(n):\n",
    "    '''Returns a tuple including the integer from [2,n) \n",
    "    which has the longest collatz sequence and the length of that sequence.\n",
    "    If there is more than 1 integer with the same length collatz sequence, \n",
    "    the largest one is returned.  \n",
    "    '''\n",
    "    \n",
    "    nums = np.arange(2, int(n), dtype=np.int64)\n",
    "    while np.sum(nums==1) < nums.size - 2:\n",
    "        mods = nums % 2\n",
    "        non_one = nums != 1\n",
    "        nums[mods == 0] = nums[mods == 0] / 2\n",
    "        nums[non_one * (mods == 1)] = 3 * nums[non_one * (mods == 1)] + 1\n",
    "    \n",
    "    candidates = np.argwhere(nums != 1) + 2\n",
    "#     print(candidates)\n",
    "    lengths = []\n",
    "    for candidate in candidates:\n",
    "        lengths.append(collatz_length(candidate))\n",
    "#     print(lengths)\n",
    "    if all(element == lengths[0] for element in lengths):\n",
    "        return (candidates[-1, 0], lengths[-1])\n",
    "        \n",
    "    return (candidates[np.argmax(lengths), 0], lengths[np.argmax(lengths)])"
   ]
  },
  {
   "cell_type": "code",
   "execution_count": 97,
   "metadata": {},
   "outputs": [
    {
     "data": {
      "text/plain": [
       "(837799, 524)"
      ]
     },
     "execution_count": 97,
     "metadata": {},
     "output_type": "execute_result"
    }
   ],
   "source": [
    "longest_collatz(10**6)"
   ]
  },
  {
   "cell_type": "markdown",
   "metadata": {},
   "source": [
    "<a id='15'></a>\n",
    "# 15 #\n",
    "Starting in the top left corner of a 2×2 grid, and only being able to move to the right and down, there are exactly 6 routes to the bottom right corner.\n",
    "\n",
    "How many such routes are there through a 20×20 grid?"
   ]
  },
  {
   "cell_type": "code",
   "execution_count": 5,
   "metadata": {},
   "outputs": [],
   "source": [
    "import scipy.special\n",
    "import random"
   ]
  },
  {
   "cell_type": "code",
   "execution_count": 66,
   "metadata": {},
   "outputs": [],
   "source": [
    "def lattice_paths(s):\n",
    "    '''Returns the number of lattice paths from the top left to \n",
    "    bottom right of a square of side length s, using only right and downward moves.\n",
    "    \n",
    "    There are a total 2s moves required in all paths.\n",
    "    For the first s moves, there are a total of 2**s possible choices.\n",
    "    There is 1=comb(s,0) choice with all right moves. This imples only 1 way to fill the remaining s moves, all down.\n",
    "    There are s=comb(s,1) choices with 1 right moves and s-1 down. There are now s ways to fill the remaining moves with s-1 rights and 1 down.\n",
    "    There are comb(s, 2) with 2 rights moves. There are comb(s,2) ways to fill the remainig s-2 rights and 2 downs\n",
    "    And so on.\n",
    "    \n",
    "    To get the total number of paths, square the results \n",
    "    of each line since there are comb(s,i) ways to independently ]\n",
    "    choose the first s moves and another comb(s,i) ways to choose the next: \n",
    "    1**2 + s**2 + comb(s,2)**2 + ... comb(s,s)**2\n",
    "    '''\n",
    "    \n",
    "    sum = 0\n",
    "    for i in range(s+1):\n",
    "        sum += (scipy.special.comb(s,i))**2\n",
    "    return sum"
   ]
  },
  {
   "cell_type": "code",
   "execution_count": 65,
   "metadata": {},
   "outputs": [
    {
     "data": {
      "text/plain": [
       "137846528820.0"
      ]
     },
     "execution_count": 65,
     "metadata": {},
     "output_type": "execute_result"
    }
   ],
   "source": [
    "lattice_paths(20)"
   ]
  }
 ],
 "metadata": {
  "kernelspec": {
   "display_name": "Python 3",
   "language": "python",
   "name": "python3"
  },
  "language_info": {
   "codemirror_mode": {
    "name": "ipython",
    "version": 3
   },
   "file_extension": ".py",
   "mimetype": "text/x-python",
   "name": "python",
   "nbconvert_exporter": "python",
   "pygments_lexer": "ipython3",
   "version": "3.8.3"
  }
 },
 "nbformat": 4,
 "nbformat_minor": 4
}
