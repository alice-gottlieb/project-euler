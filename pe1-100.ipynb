{
 "cells": [
  {
   "cell_type": "markdown",
   "metadata": {},
   "source": [
    "<a id='top'></a>\n",
    "# Links #\n",
    "* [Top](#top)\n",
    "* [x] [3](#3)\n",
    "* [x] [4](#4)\n",
    "* [x] [5](#5)\n",
    "* [x] [6](#6)\n",
    "* [x] [8](#8)\n",
    "* [x] [13](#13)\n",
    "* [x] [14](#14)\n",
    "* [x] [15](#15)"
   ]
  },
  {
   "cell_type": "code",
   "execution_count": 1,
   "metadata": {},
   "outputs": [],
   "source": [
    "import numpy as np\n",
    "import math as ma"
   ]
  },
  {
   "cell_type": "markdown",
   "metadata": {},
   "source": [
    "<a id='3'></a>\n",
    "# 3 - Done #\n",
    "The prime factors of 13195 are 5, 7, 13 and 29.\n",
    "\n",
    "What is the largest prime factor of the number 600851475143?"
   ]
  },
  {
   "cell_type": "code",
   "execution_count": 36,
   "metadata": {},
   "outputs": [
    {
     "data": {
      "text/plain": [
       "True"
      ]
     },
     "execution_count": 36,
     "metadata": {},
     "output_type": "execute_result"
    }
   ],
   "source": [
    "sympy.isprime(5)"
   ]
  },
  {
   "cell_type": "code",
   "execution_count": 103,
   "metadata": {},
   "outputs": [],
   "source": [
    "def prime_fac_loop(n):\n",
    "    n_orig = n\n",
    "    fac = [1]\n",
    "    for i in range(2, n_orig):\n",
    "        div = n / i\n",
    "        if (div == int(div)):\n",
    "            div = int(div)\n",
    "            if (sympy.isprime(i)):\n",
    "                fac.append(i)\n",
    "            if (sympy.isprime(div)):\n",
    "                fac.append(div)\n",
    "#             print(fac)\n",
    "            n = div\n",
    "            prod = np.prod(np.array(fac))\n",
    "#             print(prod)\n",
    "            if (prod == n_orig or n == 1):\n",
    "                return max(fac)"
   ]
  },
  {
   "cell_type": "code",
   "execution_count": 105,
   "metadata": {},
   "outputs": [
    {
     "data": {
      "text/plain": [
       "29"
      ]
     },
     "execution_count": 105,
     "metadata": {},
     "output_type": "execute_result"
    }
   ],
   "source": [
    "prime_fac_loop(13195)"
   ]
  },
  {
   "cell_type": "code",
   "execution_count": 106,
   "metadata": {},
   "outputs": [
    {
     "data": {
      "text/plain": [
       "6857"
      ]
     },
     "execution_count": 106,
     "metadata": {},
     "output_type": "execute_result"
    }
   ],
   "source": [
    "prime_fac_loop(600851475143)"
   ]
  },
  {
   "cell_type": "markdown",
   "metadata": {},
   "source": [
    "<a id='4'></a>\n",
    "\n",
    "# 4 - 11/10/20 #\n",
    "\n",
    "A palindromic number reads the same both ways. The largest palindrome made from the product of two 2-digit numbers is 9009 = 91 × 99.\n",
    "\n",
    "Find the largest palindrome made from the product of two 3-digit numbers."
   ]
  },
  {
   "cell_type": "code",
   "execution_count": 2,
   "metadata": {},
   "outputs": [],
   "source": [
    "def is_palindrome(n):\n",
    "    n = str(int(n))\n",
    "    for i in range(ma.floor(len(n) / 2)):\n",
    "        if n[i] != n[len(n) - i - 1]:\n",
    "            return False\n",
    "    return True"
   ]
  },
  {
   "cell_type": "code",
   "execution_count": 9,
   "metadata": {},
   "outputs": [
    {
     "data": {
      "text/plain": [
       "True"
      ]
     },
     "execution_count": 9,
     "metadata": {},
     "output_type": "execute_result"
    }
   ],
   "source": [
    "is_palindrome(101)"
   ]
  },
  {
   "cell_type": "code",
   "execution_count": 12,
   "metadata": {},
   "outputs": [
    {
     "name": "stdout",
     "output_type": "stream",
     "text": [
      "[819918, 824428, 819918, 906609, 824428, 886688, 861168, 888888, 861168, 888888, 886688, 906609]\n",
      "906609\n"
     ]
    }
   ],
   "source": [
    "pals = []\n",
    "for i in range(900, 1000):\n",
    "    for j in range(900, 1000):\n",
    "        if is_palindrome(i*j):\n",
    "            pals.append(i*j)\n",
    "\n",
    "print(pals)\n",
    "print(max(pals))"
   ]
  },
  {
   "cell_type": "markdown",
   "metadata": {},
   "source": [
    "<a id='5'></a>\n",
    "# 5 - Done #\n",
    "2520 is the smallest number that can be divided by each of the numbers from 1 to 10 without any remainder.\n",
    "\n",
    "What is the smallest positive number that is evenly divisible by all of the numbers from 1 to 20?"
   ]
  },
  {
   "cell_type": "code",
   "execution_count": 44,
   "metadata": {},
   "outputs": [],
   "source": [
    "def lcm_first_n(n):\n",
    "    '''Gets the least common multiple of the first n integers, [1,n] inclusive.\n",
    "    \n",
    "    Multiples the highest power of each prime form 1 to n to get lcm. \n",
    "    Uses sympy to find each prime number from 1 to n. \n",
    "    Takes the log of each number from 1 to n with base of that prime p.\n",
    "    Multiples all p^floor of max value of log_p([1,n]) to get result.\n",
    "    '''\n",
    "    nums = np.arange(1,n+1)\n",
    "    result = 1\n",
    "    for i in range(1,n+1):\n",
    "        if sympy.isprime(i):\n",
    "            result = result * (i ** np.floor(np.max(np.log(nums) / np.log(i))))\n",
    "    return result"
   ]
  },
  {
   "cell_type": "code",
   "execution_count": 45,
   "metadata": {},
   "outputs": [
    {
     "data": {
      "text/plain": [
       "232792560.0"
      ]
     },
     "execution_count": 45,
     "metadata": {},
     "output_type": "execute_result"
    }
   ],
   "source": [
    "lcm_first_n(20)"
   ]
  },
  {
   "cell_type": "markdown",
   "metadata": {},
   "source": [
    "<a id='6'></a>\n",
    "\n",
    "# 6 - Done #\n",
    "\n",
    "The sum of the squares of the first ten natural numbers is,\n",
    "\n",
    "The square of the sum of the first ten natural numbers is,\n",
    "\n",
    "Hence the difference between the sum of the squares of the first ten natural numbers and the square of the sum is .\n",
    "\n",
    "Find the difference between the sum of the squares of the first one hundred natural numbers and the square of the sum."
   ]
  },
  {
   "cell_type": "code",
   "execution_count": 56,
   "metadata": {},
   "outputs": [
    {
     "data": {
      "text/plain": [
       "2640"
      ]
     },
     "execution_count": 56,
     "metadata": {},
     "output_type": "execute_result"
    }
   ],
   "source": [
    "nums = np.arange(1,11)\n",
    "nums_sq = nums**2\n",
    "(np.sum(nums))**2 - np.sum(nums_sq)"
   ]
  },
  {
   "cell_type": "code",
   "execution_count": 14,
   "metadata": {},
   "outputs": [
    {
     "data": {
      "text/plain": [
       "25164150"
      ]
     },
     "execution_count": 14,
     "metadata": {},
     "output_type": "execute_result"
    }
   ],
   "source": [
    "nums = np.arange(1,101)\n",
    "nums_sq = nums**2\n",
    "(np.sum(nums))**2 - np.sum(nums_sq)"
   ]
  },
  {
   "cell_type": "markdown",
   "metadata": {},
   "source": [
    "<a id='8'></a>\n",
    "\n",
    "# 8 - 11/18/20#\n",
    "Find the thirteen adjacent digits in the 1000-digit number that have the greatest product. What is the value of this product?"
   ]
  },
  {
   "cell_type": "code",
   "execution_count": 34,
   "metadata": {},
   "outputs": [
    {
     "name": "stdout",
     "output_type": "stream",
     "text": [
      "[7 3 1 6 7 1 7 6 5 3 1 3 3] 0 5000940\n",
      "[4 9 1 9 2 2 5 1 1 9 6 7 4] 16 9797760\n",
      "[9 2 2 5 1 1 9 6 7 4 4 2 6] 19 13063680\n",
      "[2 5 1 1 9 6 7 4 4 2 6 5 7] 21 25401600\n",
      "[5 1 1 9 6 7 4 4 2 6 5 7 4] 22 50803200\n",
      "[1 1 9 6 7 4 4 2 6 5 7 4 7] 23 71124480\n",
      "[1 9 6 7 4 4 2 6 5 7 4 7 4] 24 284497920\n",
      "[9 6 7 4 4 2 6 5 7 4 7 4 2] 25 568995840\n",
      "[5 3 4 9 1 9 4 9 3 4 9 6 9] 40 1020366720\n",
      "[3 4 9 1 9 4 9 3 4 9 6 9 8] 41 1632586752\n",
      "[9 1 9 4 9 3 4 9 6 9 8 3 5] 43 2040733440\n",
      "[8 6 9 4 7 8 8 5 1 8 4 3 8] 88 2972712960\n",
      "[4 3 5 5 7 6 6 8 9 6 6 4 8] 195 6270566400\n",
      "[3 5 5 7 6 6 8 9 6 6 4 8 9] 196 14108774400\n",
      "[5 5 7 6 6 8 9 6 6 4 8 9 5] 197 23514624000\n",
      "23514624000\n"
     ]
    }
   ],
   "source": [
    "nums_str = \\\n",
    "'73167176531330624919225119674426574742355349194934\\\n",
    "96983520312774506326239578318016984801869478851843\\\n",
    "85861560789112949495459501737958331952853208805511\\\n",
    "12540698747158523863050715693290963295227443043557\\\n",
    "66896648950445244523161731856403098711121722383113\\\n",
    "62229893423380308135336276614282806444486645238749\\\n",
    "30358907296290491560440772390713810515859307960866\\\n",
    "70172427121883998797908792274921901699720888093776\\\n",
    "65727333001053367881220235421809751254540594752243\\\n",
    "52584907711670556013604839586446706324415722155397\\\n",
    "53697817977846174064955149290862569321978468622482\\\n",
    "83972241375657056057490261407972968652414535100474\\\n",
    "82166370484403199890008895243450658541227588666881\\\n",
    "16427171479924442928230863465674813919123162824586\\\n",
    "17866458359124566529476545682848912883142607690042\\\n",
    "24219022671055626321111109370544217506941658960408\\\n",
    "07198403850962455444362981230987879927244284909188\\\n",
    "84580156166097919133875499200524063689912560717606\\\n",
    "05886116467109405077541002256983155200055935729725\\\n",
    "71636269561882670428252483600823257530420752963450'\n",
    "\n",
    "nums = np.array([int(num) for num in nums_str], dtype=np.int64)\n",
    "\n",
    "max_prod = 1\n",
    "\n",
    "for i in range(len(nums)):\n",
    "    box = nums[i:(i + 13)]\n",
    "    prod = np.prod(box)\n",
    "    \n",
    "    if prod > max_prod:\n",
    "        max_prod = prod\n",
    "        print(box, i, prod)\n",
    "        \n",
    "print(max_prod)"
   ]
  },
  {
   "cell_type": "markdown",
   "metadata": {},
   "source": [
    "<a id='13'></a>\n",
    "\n",
    "# 13 - 11/23/20 #\n",
    "Work out the first ten digits of the sum of the following one-hundred 50-digit numbers."
   ]
  },
  {
   "cell_type": "code",
   "execution_count": 2,
   "metadata": {},
   "outputs": [],
   "source": [
    "nums_str = \\\n",
    "'37107287533902102798797998220837590246510135740250\\\n",
    "46376937677490009712648124896970078050417018260538\\\n",
    "74324986199524741059474233309513058123726617309629\\\n",
    "91942213363574161572522430563301811072406154908250\\\n",
    "23067588207539346171171980310421047513778063246676\\\n",
    "89261670696623633820136378418383684178734361726757\\\n",
    "28112879812849979408065481931592621691275889832738\\\n",
    "44274228917432520321923589422876796487670272189318\\\n",
    "47451445736001306439091167216856844588711603153276\\\n",
    "70386486105843025439939619828917593665686757934951\\\n",
    "62176457141856560629502157223196586755079324193331\\\n",
    "64906352462741904929101432445813822663347944758178\\\n",
    "92575867718337217661963751590579239728245598838407\\\n",
    "58203565325359399008402633568948830189458628227828\\\n",
    "80181199384826282014278194139940567587151170094390\\\n",
    "35398664372827112653829987240784473053190104293586\\\n",
    "86515506006295864861532075273371959191420517255829\\\n",
    "71693888707715466499115593487603532921714970056938\\\n",
    "54370070576826684624621495650076471787294438377604\\\n",
    "53282654108756828443191190634694037855217779295145\\\n",
    "36123272525000296071075082563815656710885258350721\\\n",
    "45876576172410976447339110607218265236877223636045\\\n",
    "17423706905851860660448207621209813287860733969412\\\n",
    "81142660418086830619328460811191061556940512689692\\\n",
    "51934325451728388641918047049293215058642563049483\\\n",
    "62467221648435076201727918039944693004732956340691\\\n",
    "15732444386908125794514089057706229429197107928209\\\n",
    "55037687525678773091862540744969844508330393682126\\\n",
    "18336384825330154686196124348767681297534375946515\\\n",
    "80386287592878490201521685554828717201219257766954\\\n",
    "78182833757993103614740356856449095527097864797581\\\n",
    "16726320100436897842553539920931837441497806860984\\\n",
    "48403098129077791799088218795327364475675590848030\\\n",
    "87086987551392711854517078544161852424320693150332\\\n",
    "59959406895756536782107074926966537676326235447210\\\n",
    "69793950679652694742597709739166693763042633987085\\\n",
    "41052684708299085211399427365734116182760315001271\\\n",
    "65378607361501080857009149939512557028198746004375\\\n",
    "35829035317434717326932123578154982629742552737307\\\n",
    "94953759765105305946966067683156574377167401875275\\\n",
    "88902802571733229619176668713819931811048770190271\\\n",
    "25267680276078003013678680992525463401061632866526\\\n",
    "36270218540497705585629946580636237993140746255962\\\n",
    "24074486908231174977792365466257246923322810917141\\\n",
    "91430288197103288597806669760892938638285025333403\\\n",
    "34413065578016127815921815005561868836468420090470\\\n",
    "23053081172816430487623791969842487255036638784583\\\n",
    "11487696932154902810424020138335124462181441773470\\\n",
    "63783299490636259666498587618221225225512486764533\\\n",
    "67720186971698544312419572409913959008952310058822\\\n",
    "95548255300263520781532296796249481641953868218774\\\n",
    "76085327132285723110424803456124867697064507995236\\\n",
    "37774242535411291684276865538926205024910326572967\\\n",
    "23701913275725675285653248258265463092207058596522\\\n",
    "29798860272258331913126375147341994889534765745501\\\n",
    "18495701454879288984856827726077713721403798879715\\\n",
    "38298203783031473527721580348144513491373226651381\\\n",
    "34829543829199918180278916522431027392251122869539\\\n",
    "40957953066405232632538044100059654939159879593635\\\n",
    "29746152185502371307642255121183693803580388584903\\\n",
    "41698116222072977186158236678424689157993532961922\\\n",
    "62467957194401269043877107275048102390895523597457\\\n",
    "23189706772547915061505504953922979530901129967519\\\n",
    "86188088225875314529584099251203829009407770775672\\\n",
    "11306739708304724483816533873502340845647058077308\\\n",
    "82959174767140363198008187129011875491310547126581\\\n",
    "97623331044818386269515456334926366572897563400500\\\n",
    "42846280183517070527831839425882145521227251250327\\\n",
    "55121603546981200581762165212827652751691296897789\\\n",
    "32238195734329339946437501907836945765883352399886\\\n",
    "75506164965184775180738168837861091527357929701337\\\n",
    "62177842752192623401942399639168044983993173312731\\\n",
    "32924185707147349566916674687634660915035914677504\\\n",
    "99518671430235219628894890102423325116913619626622\\\n",
    "73267460800591547471830798392868535206946944540724\\\n",
    "76841822524674417161514036427982273348055556214818\\\n",
    "97142617910342598647204516893989422179826088076852\\\n",
    "87783646182799346313767754307809363333018982642090\\\n",
    "10848802521674670883215120185883543223812876952786\\\n",
    "71329612474782464538636993009049310363619763878039\\\n",
    "62184073572399794223406235393808339651327408011116\\\n",
    "66627891981488087797941876876144230030984490851411\\\n",
    "60661826293682836764744779239180335110989069790714\\\n",
    "85786944089552990653640447425576083659976645795096\\\n",
    "66024396409905389607120198219976047599490197230297\\\n",
    "64913982680032973156037120041377903785566085089252\\\n",
    "16730939319872750275468906903707539413042652315011\\\n",
    "94809377245048795150954100921645863754710598436791\\\n",
    "78639167021187492431995700641917969777599028300699\\\n",
    "15368713711936614952811305876380278410754449733078\\\n",
    "40789923115535562561142322423255033685442488917353\\\n",
    "44889911501440648020369068063960672322193204149535\\\n",
    "41503128880339536053299340368006977710650566631954\\\n",
    "81234880673210146739058568557934581403627822703280\\\n",
    "82616570773948327592232845941706525094512325230608\\\n",
    "22918802058777319719839450180888072429661980811197\\\n",
    "77158542502016545090413245809786882778948721859617\\\n",
    "72107838435069186155435662884062257473692284509516\\\n",
    "20849603980134001723930671666823555245252804609722\\\n",
    "53503534226472524250874054075591789781264330331690'"
   ]
  },
  {
   "cell_type": "code",
   "execution_count": 62,
   "metadata": {},
   "outputs": [],
   "source": [
    "# Find sum of each place value (one's place, 10's place, etc.)\n",
    "# Put this sum mod 10 in for the digit of the final sum of all digits\n",
    "# Carry the remaining digits of the sum onto the next iteration\n",
    "# For last iteraion, take entire sum, including carries"
   ]
  },
  {
   "cell_type": "code",
   "execution_count": 61,
   "metadata": {},
   "outputs": [
    {
     "name": "stdout",
     "output_type": "stream",
     "text": [
      "[553, 7, 3, 7, 6, 2, 3, 0, 3, 9, 0, 8, 7, 6, 6, 3, 7, 3, 0, 2, 0, 4, 8, 7, 4, 6, 8, 3, 2, 9, 8, 5, 9, 7, 1, 7, 7, 3, 6, 5, 9, 8, 3, 1, 8, 9, 2, 6, 7, 2]\n"
     ]
    }
   ],
   "source": [
    "digits = np.array([int(num) for num in nums_str], dtype=np.float64)\n",
    "carry = 0\n",
    "sum_digits = []\n",
    "\n",
    "for i in range(49, -1, -1):\n",
    "    place_val = digits[list(range(i, 5000, 50))]\n",
    "#     print(place_val)\n",
    "    digit_sum = np.sum(place_val) + carry\n",
    "    this_digit = digit_sum % 10\n",
    "    carry = ma.trunc(digit_sum / 10)\n",
    "    if i != 0:\n",
    "        sum_digits.append(this_digit)\n",
    "    else:\n",
    "        sum_digits.append(digit_sum)\n",
    "\n",
    "#     print(digit_sum, carry, i)\n",
    "#     print(this_digit, 49-i)\n",
    "\n",
    "print(sum_digits[::-1])"
   ]
  },
  {
   "cell_type": "markdown",
   "metadata": {},
   "source": [
    "<a id='14'></a>\n",
    "# 14 - Done #\n",
    "The following iterative sequence is defined for the set of positive integers:\n",
    "\n",
    "n → n/2 (n is even)\n",
    "n → 3n + 1 (n is odd)\n",
    "\n",
    "Using the rule above and starting with 13, we generate the following sequence:\n",
    "\n",
    "13 → 40 → 20 → 10 → 5 → 16 → 8 → 4 → 2 → 1\n",
    "It can be seen that this sequence (starting at 13 and finishing at 1) contains 10 terms. Although it has not been proved yet (Collatz Problem), it is thought that all starting numbers finish at 1.\n",
    "\n",
    "Which starting number, under one million, produces the longest chain?\n",
    "\n",
    "NOTE: Once the chain starts the terms are allowed to go above one million."
   ]
  },
  {
   "cell_type": "code",
   "execution_count": 98,
   "metadata": {},
   "outputs": [],
   "source": [
    "def next_collatz(n):\n",
    "    '''Returns next integer according to rules of the collatz sequence.'''\n",
    "    if n % 2 == 0:\n",
    "        return n / 2\n",
    "    else:\n",
    "        return 3*n + 1\n",
    "\n",
    "def collatz_length(n):\n",
    "    '''Returns the length of the collatz sequence starting from n and ending at 1.'''\n",
    "    i = 0\n",
    "    while n != 1:\n",
    "        n = next_collatz(n)\n",
    "        i += 1\n",
    "    return i"
   ]
  },
  {
   "cell_type": "code",
   "execution_count": 96,
   "metadata": {},
   "outputs": [],
   "source": [
    "def longest_collatz(n):\n",
    "    '''Returns a tuple including the integer from [2,n) \n",
    "    which has the longest collatz sequence and the length of that sequence.\n",
    "    If there is more than 1 integer with the same length collatz sequence, \n",
    "    the largest one is returned.  \n",
    "    '''\n",
    "    \n",
    "    nums = np.arange(2, int(n), dtype=np.int64)\n",
    "    while np.sum(nums==1) < nums.size - 2:\n",
    "        mods = nums % 2\n",
    "        non_one = nums != 1\n",
    "        nums[mods == 0] = nums[mods == 0] / 2\n",
    "        nums[non_one * (mods == 1)] = 3 * nums[non_one * (mods == 1)] + 1\n",
    "    \n",
    "    candidates = np.argwhere(nums != 1) + 2\n",
    "#     print(candidates)\n",
    "    lengths = []\n",
    "    for candidate in candidates:\n",
    "        lengths.append(collatz_length(candidate))\n",
    "#     print(lengths)\n",
    "    if all(element == lengths[0] for element in lengths):\n",
    "        return (candidates[-1, 0], lengths[-1])\n",
    "        \n",
    "    return (candidates[np.argmax(lengths), 0], lengths[np.argmax(lengths)])"
   ]
  },
  {
   "cell_type": "code",
   "execution_count": 97,
   "metadata": {},
   "outputs": [
    {
     "data": {
      "text/plain": [
       "(837799, 524)"
      ]
     },
     "execution_count": 97,
     "metadata": {},
     "output_type": "execute_result"
    }
   ],
   "source": [
    "longest_collatz(10**6)"
   ]
  },
  {
   "cell_type": "markdown",
   "metadata": {},
   "source": [
    "<a id='15'></a>\n",
    "# 15 #\n",
    "Starting in the top left corner of a 2×2 grid, and only being able to move to the right and down, there are exactly 6 routes to the bottom right corner.\n",
    "\n",
    "How many such routes are there through a 20×20 grid?"
   ]
  },
  {
   "cell_type": "code",
   "execution_count": 5,
   "metadata": {},
   "outputs": [],
   "source": [
    "import scipy.special\n",
    "import random"
   ]
  },
  {
   "cell_type": "code",
   "execution_count": 66,
   "metadata": {},
   "outputs": [],
   "source": [
    "def lattice_paths(s):\n",
    "    '''Returns the number of lattice paths from the top left to \n",
    "    bottom right of a square of side length s, using only right and downward moves.\n",
    "    \n",
    "    There are a total 2s moves required in all paths.\n",
    "    For the first s moves, there are a total of 2**s possible choices.\n",
    "    There is 1=comb(s,0) choice with all right moves. This imples only 1 way to fill the remaining s moves, all down.\n",
    "    There are s=comb(s,1) choices with 1 right moves and s-1 down. There are now s ways to fill the remaining moves with s-1 rights and 1 down.\n",
    "    There are comb(s, 2) with 2 rights moves. There are comb(s,2) ways to fill the remainig s-2 rights and 2 downs\n",
    "    And so on.\n",
    "    \n",
    "    To get the total number of paths, square the results \n",
    "    of each line since there are comb(s,i) ways to independently ]\n",
    "    choose the first s moves and another comb(s,i) ways to choose the next: \n",
    "    1**2 + s**2 + comb(s,2)**2 + ... comb(s,s)**2\n",
    "    '''\n",
    "    \n",
    "    sum = 0\n",
    "    for i in range(s+1):\n",
    "        sum += (scipy.special.comb(s,i))**2\n",
    "    return sum"
   ]
  },
  {
   "cell_type": "code",
   "execution_count": 65,
   "metadata": {},
   "outputs": [
    {
     "data": {
      "text/plain": [
       "137846528820.0"
      ]
     },
     "execution_count": 65,
     "metadata": {},
     "output_type": "execute_result"
    }
   ],
   "source": [
    "lattice_paths(20)"
   ]
  }
 ],
 "metadata": {
  "kernelspec": {
   "display_name": "Python 3",
   "language": "python",
   "name": "python3"
  },
  "language_info": {
   "codemirror_mode": {
    "name": "ipython",
    "version": 3
   },
   "file_extension": ".py",
   "mimetype": "text/x-python",
   "name": "python",
   "nbconvert_exporter": "python",
   "pygments_lexer": "ipython3",
   "version": "3.8.3"
  }
 },
 "nbformat": 4,
 "nbformat_minor": 4
}
